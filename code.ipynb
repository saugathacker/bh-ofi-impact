{
 "cells": [
  {
   "cell_type": "code",
   "execution_count": 1,
   "id": "8314d2ea",
   "metadata": {},
   "outputs": [],
   "source": [
    "import pandas as pd"
   ]
  },
  {
   "cell_type": "code",
   "execution_count": 2,
   "id": "7cd2db6f",
   "metadata": {},
   "outputs": [
    {
     "data": {
      "application/vnd.microsoft.datawrangler.viewer.v0+json": {
       "columns": [
        {
         "name": "index",
         "rawType": "int64",
         "type": "integer"
        },
        {
         "name": "ts_recv",
         "rawType": "object",
         "type": "string"
        },
        {
         "name": "ts_event",
         "rawType": "object",
         "type": "string"
        },
        {
         "name": "rtype",
         "rawType": "int64",
         "type": "integer"
        },
        {
         "name": "publisher_id",
         "rawType": "int64",
         "type": "integer"
        },
        {
         "name": "instrument_id",
         "rawType": "int64",
         "type": "integer"
        },
        {
         "name": "action",
         "rawType": "object",
         "type": "string"
        },
        {
         "name": "side",
         "rawType": "object",
         "type": "string"
        },
        {
         "name": "depth",
         "rawType": "int64",
         "type": "integer"
        },
        {
         "name": "price",
         "rawType": "float64",
         "type": "float"
        },
        {
         "name": "size",
         "rawType": "int64",
         "type": "integer"
        },
        {
         "name": "flags",
         "rawType": "int64",
         "type": "integer"
        },
        {
         "name": "ts_in_delta",
         "rawType": "int64",
         "type": "integer"
        },
        {
         "name": "sequence",
         "rawType": "int64",
         "type": "integer"
        },
        {
         "name": "bid_px_00",
         "rawType": "float64",
         "type": "float"
        },
        {
         "name": "ask_px_00",
         "rawType": "float64",
         "type": "float"
        },
        {
         "name": "bid_sz_00",
         "rawType": "int64",
         "type": "integer"
        },
        {
         "name": "ask_sz_00",
         "rawType": "int64",
         "type": "integer"
        },
        {
         "name": "bid_ct_00",
         "rawType": "int64",
         "type": "integer"
        },
        {
         "name": "ask_ct_00",
         "rawType": "int64",
         "type": "integer"
        },
        {
         "name": "bid_px_01",
         "rawType": "float64",
         "type": "float"
        },
        {
         "name": "ask_px_01",
         "rawType": "float64",
         "type": "float"
        },
        {
         "name": "bid_sz_01",
         "rawType": "int64",
         "type": "integer"
        },
        {
         "name": "ask_sz_01",
         "rawType": "int64",
         "type": "integer"
        },
        {
         "name": "bid_ct_01",
         "rawType": "int64",
         "type": "integer"
        },
        {
         "name": "ask_ct_01",
         "rawType": "int64",
         "type": "integer"
        },
        {
         "name": "bid_px_02",
         "rawType": "float64",
         "type": "float"
        },
        {
         "name": "ask_px_02",
         "rawType": "float64",
         "type": "float"
        },
        {
         "name": "bid_sz_02",
         "rawType": "int64",
         "type": "integer"
        },
        {
         "name": "ask_sz_02",
         "rawType": "int64",
         "type": "integer"
        },
        {
         "name": "bid_ct_02",
         "rawType": "int64",
         "type": "integer"
        },
        {
         "name": "ask_ct_02",
         "rawType": "int64",
         "type": "integer"
        },
        {
         "name": "bid_px_03",
         "rawType": "float64",
         "type": "float"
        },
        {
         "name": "ask_px_03",
         "rawType": "float64",
         "type": "float"
        },
        {
         "name": "bid_sz_03",
         "rawType": "int64",
         "type": "integer"
        },
        {
         "name": "ask_sz_03",
         "rawType": "int64",
         "type": "integer"
        },
        {
         "name": "bid_ct_03",
         "rawType": "int64",
         "type": "integer"
        },
        {
         "name": "ask_ct_03",
         "rawType": "int64",
         "type": "integer"
        },
        {
         "name": "bid_px_04",
         "rawType": "float64",
         "type": "float"
        },
        {
         "name": "ask_px_04",
         "rawType": "float64",
         "type": "float"
        },
        {
         "name": "bid_sz_04",
         "rawType": "int64",
         "type": "integer"
        },
        {
         "name": "ask_sz_04",
         "rawType": "int64",
         "type": "integer"
        },
        {
         "name": "bid_ct_04",
         "rawType": "int64",
         "type": "integer"
        },
        {
         "name": "ask_ct_04",
         "rawType": "int64",
         "type": "integer"
        },
        {
         "name": "bid_px_05",
         "rawType": "float64",
         "type": "float"
        },
        {
         "name": "ask_px_05",
         "rawType": "float64",
         "type": "float"
        },
        {
         "name": "bid_sz_05",
         "rawType": "int64",
         "type": "integer"
        },
        {
         "name": "ask_sz_05",
         "rawType": "int64",
         "type": "integer"
        },
        {
         "name": "bid_ct_05",
         "rawType": "int64",
         "type": "integer"
        },
        {
         "name": "ask_ct_05",
         "rawType": "int64",
         "type": "integer"
        },
        {
         "name": "bid_px_06",
         "rawType": "float64",
         "type": "float"
        },
        {
         "name": "ask_px_06",
         "rawType": "float64",
         "type": "float"
        },
        {
         "name": "bid_sz_06",
         "rawType": "int64",
         "type": "integer"
        },
        {
         "name": "ask_sz_06",
         "rawType": "int64",
         "type": "integer"
        },
        {
         "name": "bid_ct_06",
         "rawType": "int64",
         "type": "integer"
        },
        {
         "name": "ask_ct_06",
         "rawType": "int64",
         "type": "integer"
        },
        {
         "name": "bid_px_07",
         "rawType": "float64",
         "type": "float"
        },
        {
         "name": "ask_px_07",
         "rawType": "float64",
         "type": "float"
        },
        {
         "name": "bid_sz_07",
         "rawType": "int64",
         "type": "integer"
        },
        {
         "name": "ask_sz_07",
         "rawType": "int64",
         "type": "integer"
        },
        {
         "name": "bid_ct_07",
         "rawType": "int64",
         "type": "integer"
        },
        {
         "name": "ask_ct_07",
         "rawType": "int64",
         "type": "integer"
        },
        {
         "name": "bid_px_08",
         "rawType": "float64",
         "type": "float"
        },
        {
         "name": "ask_px_08",
         "rawType": "float64",
         "type": "float"
        },
        {
         "name": "bid_sz_08",
         "rawType": "int64",
         "type": "integer"
        },
        {
         "name": "ask_sz_08",
         "rawType": "int64",
         "type": "integer"
        },
        {
         "name": "bid_ct_08",
         "rawType": "int64",
         "type": "integer"
        },
        {
         "name": "ask_ct_08",
         "rawType": "int64",
         "type": "integer"
        },
        {
         "name": "bid_px_09",
         "rawType": "float64",
         "type": "float"
        },
        {
         "name": "ask_px_09",
         "rawType": "float64",
         "type": "float"
        },
        {
         "name": "bid_sz_09",
         "rawType": "int64",
         "type": "integer"
        },
        {
         "name": "ask_sz_09",
         "rawType": "int64",
         "type": "integer"
        },
        {
         "name": "bid_ct_09",
         "rawType": "int64",
         "type": "integer"
        },
        {
         "name": "ask_ct_09",
         "rawType": "int64",
         "type": "integer"
        },
        {
         "name": "symbol",
         "rawType": "object",
         "type": "string"
        }
       ],
       "ref": "60755199-853f-4304-9a1d-ce671e868fa6",
       "rows": [
        [
         "0",
         "2024-10-21T11:54:29.221230963Z",
         "2024-10-21T11:54:29.221064336Z",
         "10",
         "2",
         "38",
         "C",
         "B",
         "1",
         "233.62",
         "2",
         "130",
         "166627",
         "11405847",
         "233.67",
         "233.74",
         "139",
         "200",
         "1",
         "1",
         "233.53",
         "233.75",
         "10",
         "1",
         "1",
         "1",
         "233.52",
         "233.77",
         "200",
         "8",
         "1",
         "1",
         "233.48",
         "233.78",
         "28",
         "150",
         "1",
         "2",
         "233.45",
         "233.79",
         "15",
         "29",
         "1",
         "1",
         "233.4",
         "233.8",
         "110",
         "25",
         "2",
         "1",
         "233.39",
         "233.94",
         "10",
         "200",
         "1",
         "1",
         "233.31",
         "233.98",
         "110",
         "44",
         "2",
         "3",
         "233.3",
         "234.0",
         "100",
         "155",
         "1",
         "7",
         "233.25",
         "234.13",
         "55",
         "400",
         "2",
         "1",
         "AAPL"
        ],
        [
         "1",
         "2024-10-21T11:54:29.223936626Z",
         "2024-10-21T11:54:29.223769812Z",
         "10",
         "2",
         "38",
         "A",
         "B",
         "0",
         "233.67",
         "2",
         "130",
         "166814",
         "11405848",
         "233.67",
         "233.74",
         "141",
         "200",
         "2",
         "1",
         "233.53",
         "233.75",
         "10",
         "1",
         "1",
         "1",
         "233.52",
         "233.77",
         "200",
         "8",
         "1",
         "1",
         "233.48",
         "233.78",
         "28",
         "150",
         "1",
         "2",
         "233.45",
         "233.79",
         "15",
         "29",
         "1",
         "1",
         "233.4",
         "233.8",
         "110",
         "25",
         "2",
         "1",
         "233.39",
         "233.94",
         "10",
         "200",
         "1",
         "1",
         "233.31",
         "233.98",
         "110",
         "44",
         "2",
         "3",
         "233.3",
         "234.0",
         "100",
         "155",
         "1",
         "7",
         "233.25",
         "234.13",
         "55",
         "400",
         "2",
         "1",
         "AAPL"
        ],
        [
         "2",
         "2024-10-21T11:54:29.225196809Z",
         "2024-10-21T11:54:29.225030400Z",
         "10",
         "2",
         "38",
         "A",
         "B",
         "0",
         "233.67",
         "3",
         "130",
         "166409",
         "11405849",
         "233.67",
         "233.74",
         "144",
         "200",
         "3",
         "1",
         "233.53",
         "233.75",
         "10",
         "1",
         "1",
         "1",
         "233.52",
         "233.77",
         "200",
         "8",
         "1",
         "1",
         "233.48",
         "233.78",
         "28",
         "150",
         "1",
         "2",
         "233.45",
         "233.79",
         "15",
         "29",
         "1",
         "1",
         "233.4",
         "233.8",
         "110",
         "25",
         "2",
         "1",
         "233.39",
         "233.94",
         "10",
         "200",
         "1",
         "1",
         "233.31",
         "233.98",
         "110",
         "44",
         "2",
         "3",
         "233.3",
         "234.0",
         "100",
         "155",
         "1",
         "7",
         "233.25",
         "234.13",
         "55",
         "400",
         "2",
         "1",
         "AAPL"
        ],
        [
         "3",
         "2024-10-21T11:54:29.712600612Z",
         "2024-10-21T11:54:29.712434212Z",
         "10",
         "2",
         "38",
         "A",
         "B",
         "2",
         "233.52",
         "200",
         "130",
         "166400",
         "11406449",
         "233.67",
         "233.74",
         "144",
         "200",
         "3",
         "1",
         "233.53",
         "233.75",
         "10",
         "1",
         "1",
         "1",
         "233.52",
         "233.77",
         "400",
         "8",
         "2",
         "1",
         "233.48",
         "233.78",
         "28",
         "150",
         "1",
         "2",
         "233.45",
         "233.79",
         "15",
         "29",
         "1",
         "1",
         "233.4",
         "233.8",
         "110",
         "25",
         "2",
         "1",
         "233.39",
         "233.94",
         "10",
         "200",
         "1",
         "1",
         "233.31",
         "233.98",
         "110",
         "44",
         "2",
         "3",
         "233.3",
         "234.0",
         "100",
         "155",
         "1",
         "7",
         "233.25",
         "234.13",
         "55",
         "400",
         "2",
         "1",
         "AAPL"
        ],
        [
         "4",
         "2024-10-21T11:54:29.764839221Z",
         "2024-10-21T11:54:29.764673165Z",
         "10",
         "2",
         "38",
         "C",
         "B",
         "2",
         "233.52",
         "200",
         "130",
         "166056",
         "11406501",
         "233.67",
         "233.74",
         "144",
         "200",
         "3",
         "1",
         "233.53",
         "233.75",
         "10",
         "1",
         "1",
         "1",
         "233.52",
         "233.77",
         "200",
         "8",
         "1",
         "1",
         "233.48",
         "233.78",
         "28",
         "150",
         "1",
         "2",
         "233.45",
         "233.79",
         "15",
         "29",
         "1",
         "1",
         "233.4",
         "233.8",
         "110",
         "25",
         "2",
         "1",
         "233.39",
         "233.94",
         "10",
         "200",
         "1",
         "1",
         "233.31",
         "233.98",
         "110",
         "44",
         "2",
         "3",
         "233.3",
         "234.0",
         "100",
         "155",
         "1",
         "7",
         "233.25",
         "234.13",
         "55",
         "400",
         "2",
         "1",
         "AAPL"
        ]
       ],
       "shape": {
        "columns": 74,
        "rows": 5
       }
      },
      "text/html": [
       "<div>\n",
       "<style scoped>\n",
       "    .dataframe tbody tr th:only-of-type {\n",
       "        vertical-align: middle;\n",
       "    }\n",
       "\n",
       "    .dataframe tbody tr th {\n",
       "        vertical-align: top;\n",
       "    }\n",
       "\n",
       "    .dataframe thead th {\n",
       "        text-align: right;\n",
       "    }\n",
       "</style>\n",
       "<table border=\"1\" class=\"dataframe\">\n",
       "  <thead>\n",
       "    <tr style=\"text-align: right;\">\n",
       "      <th></th>\n",
       "      <th>ts_recv</th>\n",
       "      <th>ts_event</th>\n",
       "      <th>rtype</th>\n",
       "      <th>publisher_id</th>\n",
       "      <th>instrument_id</th>\n",
       "      <th>action</th>\n",
       "      <th>side</th>\n",
       "      <th>depth</th>\n",
       "      <th>price</th>\n",
       "      <th>size</th>\n",
       "      <th>...</th>\n",
       "      <th>ask_sz_08</th>\n",
       "      <th>bid_ct_08</th>\n",
       "      <th>ask_ct_08</th>\n",
       "      <th>bid_px_09</th>\n",
       "      <th>ask_px_09</th>\n",
       "      <th>bid_sz_09</th>\n",
       "      <th>ask_sz_09</th>\n",
       "      <th>bid_ct_09</th>\n",
       "      <th>ask_ct_09</th>\n",
       "      <th>symbol</th>\n",
       "    </tr>\n",
       "  </thead>\n",
       "  <tbody>\n",
       "    <tr>\n",
       "      <th>0</th>\n",
       "      <td>2024-10-21T11:54:29.221230963Z</td>\n",
       "      <td>2024-10-21T11:54:29.221064336Z</td>\n",
       "      <td>10</td>\n",
       "      <td>2</td>\n",
       "      <td>38</td>\n",
       "      <td>C</td>\n",
       "      <td>B</td>\n",
       "      <td>1</td>\n",
       "      <td>233.62</td>\n",
       "      <td>2</td>\n",
       "      <td>...</td>\n",
       "      <td>155</td>\n",
       "      <td>1</td>\n",
       "      <td>7</td>\n",
       "      <td>233.25</td>\n",
       "      <td>234.13</td>\n",
       "      <td>55</td>\n",
       "      <td>400</td>\n",
       "      <td>2</td>\n",
       "      <td>1</td>\n",
       "      <td>AAPL</td>\n",
       "    </tr>\n",
       "    <tr>\n",
       "      <th>1</th>\n",
       "      <td>2024-10-21T11:54:29.223936626Z</td>\n",
       "      <td>2024-10-21T11:54:29.223769812Z</td>\n",
       "      <td>10</td>\n",
       "      <td>2</td>\n",
       "      <td>38</td>\n",
       "      <td>A</td>\n",
       "      <td>B</td>\n",
       "      <td>0</td>\n",
       "      <td>233.67</td>\n",
       "      <td>2</td>\n",
       "      <td>...</td>\n",
       "      <td>155</td>\n",
       "      <td>1</td>\n",
       "      <td>7</td>\n",
       "      <td>233.25</td>\n",
       "      <td>234.13</td>\n",
       "      <td>55</td>\n",
       "      <td>400</td>\n",
       "      <td>2</td>\n",
       "      <td>1</td>\n",
       "      <td>AAPL</td>\n",
       "    </tr>\n",
       "    <tr>\n",
       "      <th>2</th>\n",
       "      <td>2024-10-21T11:54:29.225196809Z</td>\n",
       "      <td>2024-10-21T11:54:29.225030400Z</td>\n",
       "      <td>10</td>\n",
       "      <td>2</td>\n",
       "      <td>38</td>\n",
       "      <td>A</td>\n",
       "      <td>B</td>\n",
       "      <td>0</td>\n",
       "      <td>233.67</td>\n",
       "      <td>3</td>\n",
       "      <td>...</td>\n",
       "      <td>155</td>\n",
       "      <td>1</td>\n",
       "      <td>7</td>\n",
       "      <td>233.25</td>\n",
       "      <td>234.13</td>\n",
       "      <td>55</td>\n",
       "      <td>400</td>\n",
       "      <td>2</td>\n",
       "      <td>1</td>\n",
       "      <td>AAPL</td>\n",
       "    </tr>\n",
       "    <tr>\n",
       "      <th>3</th>\n",
       "      <td>2024-10-21T11:54:29.712600612Z</td>\n",
       "      <td>2024-10-21T11:54:29.712434212Z</td>\n",
       "      <td>10</td>\n",
       "      <td>2</td>\n",
       "      <td>38</td>\n",
       "      <td>A</td>\n",
       "      <td>B</td>\n",
       "      <td>2</td>\n",
       "      <td>233.52</td>\n",
       "      <td>200</td>\n",
       "      <td>...</td>\n",
       "      <td>155</td>\n",
       "      <td>1</td>\n",
       "      <td>7</td>\n",
       "      <td>233.25</td>\n",
       "      <td>234.13</td>\n",
       "      <td>55</td>\n",
       "      <td>400</td>\n",
       "      <td>2</td>\n",
       "      <td>1</td>\n",
       "      <td>AAPL</td>\n",
       "    </tr>\n",
       "    <tr>\n",
       "      <th>4</th>\n",
       "      <td>2024-10-21T11:54:29.764839221Z</td>\n",
       "      <td>2024-10-21T11:54:29.764673165Z</td>\n",
       "      <td>10</td>\n",
       "      <td>2</td>\n",
       "      <td>38</td>\n",
       "      <td>C</td>\n",
       "      <td>B</td>\n",
       "      <td>2</td>\n",
       "      <td>233.52</td>\n",
       "      <td>200</td>\n",
       "      <td>...</td>\n",
       "      <td>155</td>\n",
       "      <td>1</td>\n",
       "      <td>7</td>\n",
       "      <td>233.25</td>\n",
       "      <td>234.13</td>\n",
       "      <td>55</td>\n",
       "      <td>400</td>\n",
       "      <td>2</td>\n",
       "      <td>1</td>\n",
       "      <td>AAPL</td>\n",
       "    </tr>\n",
       "  </tbody>\n",
       "</table>\n",
       "<p>5 rows × 74 columns</p>\n",
       "</div>"
      ],
      "text/plain": [
       "                          ts_recv                        ts_event  rtype  \\\n",
       "0  2024-10-21T11:54:29.221230963Z  2024-10-21T11:54:29.221064336Z     10   \n",
       "1  2024-10-21T11:54:29.223936626Z  2024-10-21T11:54:29.223769812Z     10   \n",
       "2  2024-10-21T11:54:29.225196809Z  2024-10-21T11:54:29.225030400Z     10   \n",
       "3  2024-10-21T11:54:29.712600612Z  2024-10-21T11:54:29.712434212Z     10   \n",
       "4  2024-10-21T11:54:29.764839221Z  2024-10-21T11:54:29.764673165Z     10   \n",
       "\n",
       "   publisher_id  instrument_id action side  depth   price  size  ...  \\\n",
       "0             2             38      C    B      1  233.62     2  ...   \n",
       "1             2             38      A    B      0  233.67     2  ...   \n",
       "2             2             38      A    B      0  233.67     3  ...   \n",
       "3             2             38      A    B      2  233.52   200  ...   \n",
       "4             2             38      C    B      2  233.52   200  ...   \n",
       "\n",
       "   ask_sz_08  bid_ct_08  ask_ct_08  bid_px_09  ask_px_09  bid_sz_09  \\\n",
       "0        155          1          7     233.25     234.13         55   \n",
       "1        155          1          7     233.25     234.13         55   \n",
       "2        155          1          7     233.25     234.13         55   \n",
       "3        155          1          7     233.25     234.13         55   \n",
       "4        155          1          7     233.25     234.13         55   \n",
       "\n",
       "   ask_sz_09  bid_ct_09  ask_ct_09  symbol  \n",
       "0        400          2          1    AAPL  \n",
       "1        400          2          1    AAPL  \n",
       "2        400          2          1    AAPL  \n",
       "3        400          2          1    AAPL  \n",
       "4        400          2          1    AAPL  \n",
       "\n",
       "[5 rows x 74 columns]"
      ]
     },
     "execution_count": 2,
     "metadata": {},
     "output_type": "execute_result"
    }
   ],
   "source": [
    "order_data = pd.read_csv(\"first_25000_rows.csv\")\n",
    "order_data.head()"
   ]
  },
  {
   "cell_type": "code",
   "execution_count": 3,
   "id": "97af768b",
   "metadata": {},
   "outputs": [
    {
     "data": {
      "application/vnd.microsoft.datawrangler.viewer.v0+json": {
       "columns": [
        {
         "name": "index",
         "rawType": "object",
         "type": "string"
        },
        {
         "name": "rtype",
         "rawType": "float64",
         "type": "float"
        },
        {
         "name": "publisher_id",
         "rawType": "float64",
         "type": "float"
        },
        {
         "name": "instrument_id",
         "rawType": "float64",
         "type": "float"
        },
        {
         "name": "depth",
         "rawType": "float64",
         "type": "float"
        },
        {
         "name": "price",
         "rawType": "float64",
         "type": "float"
        },
        {
         "name": "size",
         "rawType": "float64",
         "type": "float"
        },
        {
         "name": "flags",
         "rawType": "float64",
         "type": "float"
        },
        {
         "name": "ts_in_delta",
         "rawType": "float64",
         "type": "float"
        },
        {
         "name": "sequence",
         "rawType": "float64",
         "type": "float"
        },
        {
         "name": "bid_px_00",
         "rawType": "float64",
         "type": "float"
        },
        {
         "name": "ask_px_00",
         "rawType": "float64",
         "type": "float"
        },
        {
         "name": "bid_sz_00",
         "rawType": "float64",
         "type": "float"
        },
        {
         "name": "ask_sz_00",
         "rawType": "float64",
         "type": "float"
        },
        {
         "name": "bid_ct_00",
         "rawType": "float64",
         "type": "float"
        },
        {
         "name": "ask_ct_00",
         "rawType": "float64",
         "type": "float"
        },
        {
         "name": "bid_px_01",
         "rawType": "float64",
         "type": "float"
        },
        {
         "name": "ask_px_01",
         "rawType": "float64",
         "type": "float"
        },
        {
         "name": "bid_sz_01",
         "rawType": "float64",
         "type": "float"
        },
        {
         "name": "ask_sz_01",
         "rawType": "float64",
         "type": "float"
        },
        {
         "name": "bid_ct_01",
         "rawType": "float64",
         "type": "float"
        },
        {
         "name": "ask_ct_01",
         "rawType": "float64",
         "type": "float"
        },
        {
         "name": "bid_px_02",
         "rawType": "float64",
         "type": "float"
        },
        {
         "name": "ask_px_02",
         "rawType": "float64",
         "type": "float"
        },
        {
         "name": "bid_sz_02",
         "rawType": "float64",
         "type": "float"
        },
        {
         "name": "ask_sz_02",
         "rawType": "float64",
         "type": "float"
        },
        {
         "name": "bid_ct_02",
         "rawType": "float64",
         "type": "float"
        },
        {
         "name": "ask_ct_02",
         "rawType": "float64",
         "type": "float"
        },
        {
         "name": "bid_px_03",
         "rawType": "float64",
         "type": "float"
        },
        {
         "name": "ask_px_03",
         "rawType": "float64",
         "type": "float"
        },
        {
         "name": "bid_sz_03",
         "rawType": "float64",
         "type": "float"
        },
        {
         "name": "ask_sz_03",
         "rawType": "float64",
         "type": "float"
        },
        {
         "name": "bid_ct_03",
         "rawType": "float64",
         "type": "float"
        },
        {
         "name": "ask_ct_03",
         "rawType": "float64",
         "type": "float"
        },
        {
         "name": "bid_px_04",
         "rawType": "float64",
         "type": "float"
        },
        {
         "name": "ask_px_04",
         "rawType": "float64",
         "type": "float"
        },
        {
         "name": "bid_sz_04",
         "rawType": "float64",
         "type": "float"
        },
        {
         "name": "ask_sz_04",
         "rawType": "float64",
         "type": "float"
        },
        {
         "name": "bid_ct_04",
         "rawType": "float64",
         "type": "float"
        },
        {
         "name": "ask_ct_04",
         "rawType": "float64",
         "type": "float"
        },
        {
         "name": "bid_px_05",
         "rawType": "float64",
         "type": "float"
        },
        {
         "name": "ask_px_05",
         "rawType": "float64",
         "type": "float"
        },
        {
         "name": "bid_sz_05",
         "rawType": "float64",
         "type": "float"
        },
        {
         "name": "ask_sz_05",
         "rawType": "float64",
         "type": "float"
        },
        {
         "name": "bid_ct_05",
         "rawType": "float64",
         "type": "float"
        },
        {
         "name": "ask_ct_05",
         "rawType": "float64",
         "type": "float"
        },
        {
         "name": "bid_px_06",
         "rawType": "float64",
         "type": "float"
        },
        {
         "name": "ask_px_06",
         "rawType": "float64",
         "type": "float"
        },
        {
         "name": "bid_sz_06",
         "rawType": "float64",
         "type": "float"
        },
        {
         "name": "ask_sz_06",
         "rawType": "float64",
         "type": "float"
        },
        {
         "name": "bid_ct_06",
         "rawType": "float64",
         "type": "float"
        },
        {
         "name": "ask_ct_06",
         "rawType": "float64",
         "type": "float"
        },
        {
         "name": "bid_px_07",
         "rawType": "float64",
         "type": "float"
        },
        {
         "name": "ask_px_07",
         "rawType": "float64",
         "type": "float"
        },
        {
         "name": "bid_sz_07",
         "rawType": "float64",
         "type": "float"
        },
        {
         "name": "ask_sz_07",
         "rawType": "float64",
         "type": "float"
        },
        {
         "name": "bid_ct_07",
         "rawType": "float64",
         "type": "float"
        },
        {
         "name": "ask_ct_07",
         "rawType": "float64",
         "type": "float"
        },
        {
         "name": "bid_px_08",
         "rawType": "float64",
         "type": "float"
        },
        {
         "name": "ask_px_08",
         "rawType": "float64",
         "type": "float"
        },
        {
         "name": "bid_sz_08",
         "rawType": "float64",
         "type": "float"
        },
        {
         "name": "ask_sz_08",
         "rawType": "float64",
         "type": "float"
        },
        {
         "name": "bid_ct_08",
         "rawType": "float64",
         "type": "float"
        },
        {
         "name": "ask_ct_08",
         "rawType": "float64",
         "type": "float"
        },
        {
         "name": "bid_px_09",
         "rawType": "float64",
         "type": "float"
        },
        {
         "name": "ask_px_09",
         "rawType": "float64",
         "type": "float"
        },
        {
         "name": "bid_sz_09",
         "rawType": "float64",
         "type": "float"
        },
        {
         "name": "ask_sz_09",
         "rawType": "float64",
         "type": "float"
        },
        {
         "name": "bid_ct_09",
         "rawType": "float64",
         "type": "float"
        },
        {
         "name": "ask_ct_09",
         "rawType": "float64",
         "type": "float"
        }
       ],
       "ref": "f95a023e-68f0-4b78-99d3-315f4cbd731c",
       "rows": [
        [
         "count",
         "5000.0",
         "5000.0",
         "5000.0",
         "5000.0",
         "5000.0",
         "5000.0",
         "5000.0",
         "5000.0",
         "5000.0",
         "5000.0",
         "5000.0",
         "5000.0",
         "5000.0",
         "5000.0",
         "5000.0",
         "5000.0",
         "5000.0",
         "5000.0",
         "5000.0",
         "5000.0",
         "5000.0",
         "5000.0",
         "5000.0",
         "5000.0",
         "5000.0",
         "5000.0",
         "5000.0",
         "5000.0",
         "5000.0",
         "5000.0",
         "5000.0",
         "5000.0",
         "5000.0",
         "5000.0",
         "5000.0",
         "5000.0",
         "5000.0",
         "5000.0",
         "5000.0",
         "5000.0",
         "5000.0",
         "5000.0",
         "5000.0",
         "5000.0",
         "5000.0",
         "5000.0",
         "5000.0",
         "5000.0",
         "5000.0",
         "5000.0",
         "5000.0",
         "5000.0",
         "5000.0",
         "5000.0",
         "5000.0",
         "5000.0",
         "5000.0",
         "5000.0",
         "5000.0",
         "5000.0",
         "5000.0",
         "5000.0",
         "5000.0",
         "5000.0",
         "5000.0",
         "5000.0",
         "5000.0",
         "5000.0",
         "5000.0"
        ],
        [
         "mean",
         "10.0",
         "2.0",
         "38.0",
         "1.4076",
         "233.80656399999998",
         "153.1692",
         "128.0316",
         "170752.8436",
         "13440777.4452",
         "233.755936",
         "233.88123",
         "286.6584",
         "122.8034",
         "1.3472",
         "1.7214",
         "233.70396200000002",
         "233.91908999999998",
         "268.4794",
         "154.7544",
         "1.3174",
         "1.4294",
         "233.665988",
         "233.96037199999998",
         "328.0966",
         "130.1362",
         "1.3308",
         "1.5572",
         "233.62416000000002",
         "234.011906",
         "360.1236",
         "151.642",
         "1.3664",
         "1.4274",
         "233.57532400000002",
         "234.071356",
         "304.828",
         "182.3442",
         "1.3318",
         "1.3722",
         "233.53014000000005",
         "234.13203600000003",
         "191.5748",
         "134.1468",
         "1.2988",
         "1.466",
         "233.48435600000002",
         "234.210784",
         "158.35",
         "171.344",
         "1.3674",
         "1.6896",
         "233.44248599999997",
         "234.30078800000004",
         "86.2508",
         "267.7424",
         "1.3252",
         "1.6614",
         "233.40505",
         "234.37292999999997",
         "89.9296",
         "259.9286",
         "1.385",
         "1.8862",
         "233.36442399999999",
         "234.4649",
         "68.3822",
         "185.6622",
         "1.4342",
         "2.0972"
        ],
        [
         "std",
         "0.0",
         "0.0",
         "0.0",
         "1.4551583203031515",
         "0.17097204506011518",
         "129.45997276482555",
         "15.80228286890164",
         "54331.14060044136",
         "1254097.32162802",
         "0.11218217715918666",
         "0.12826081735063585",
         "429.60224967755187",
         "123.0120056707804",
         "0.6728615820075573",
         "1.5382637261076064",
         "0.10363411871634191",
         "0.13783639459277416",
         "427.2032978655168",
         "136.11558019152096",
         "0.5854278650329429",
         "0.8209448398558806",
         "0.10536453005086291",
         "0.14621661148957799",
         "425.57914186392367",
         "138.65990972041408",
         "0.5746628641921301",
         "1.1531669952022108",
         "0.10178215129021226",
         "0.15879606544898356",
         "432.3237868708863",
         "157.8246063111534",
         "0.5301011615232318",
         "1.0002646379179552",
         "0.09707491814030264",
         "0.17148446765969783",
         "408.19434310184243",
         "182.3765982001928",
         "0.4892408725017199",
         "0.9868444317047044",
         "0.09222082918878621",
         "0.17630618672721612",
         "298.43350635695",
         "160.41365951249728",
         "0.4655769671949857",
         "1.0146181005570756",
         "0.08716297804084308",
         "0.20058951262344948",
         "228.7167212245562",
         "197.63589464814436",
         "0.490372647143583",
         "1.474478435695728",
         "0.08323548181566774",
         "0.21776249253861824",
         "136.27499577785667",
         "347.8006789882683",
         "0.47569971415127305",
         "1.316623233635113",
         "0.08088081256495995",
         "0.2216799122534652",
         "135.71827781852429",
         "450.03062719675927",
         "0.5024196304853342",
         "1.3419425181222286",
         "0.07624166041053797",
         "0.2324183160913338",
         "89.70457460632191",
         "344.0153115750665",
         "0.5041043386411658",
         "1.460198135774494"
        ],
        [
         "min",
         "10.0",
         "2.0",
         "38.0",
         "0.0",
         "232.6",
         "1.0",
         "0.0",
         "165553.0",
         "11405847.0",
         "233.5",
         "233.52",
         "1.0",
         "1.0",
         "1.0",
         "1.0",
         "233.45",
         "233.53",
         "1.0",
         "1.0",
         "1.0",
         "1.0",
         "233.4",
         "233.56",
         "1.0",
         "1.0",
         "1.0",
         "1.0",
         "233.39",
         "233.58",
         "1.0",
         "1.0",
         "1.0",
         "1.0",
         "233.31",
         "233.59",
         "1.0",
         "1.0",
         "1.0",
         "1.0",
         "233.3",
         "233.6",
         "1.0",
         "1.0",
         "1.0",
         "1.0",
         "233.25",
         "233.61",
         "1.0",
         "1.0",
         "1.0",
         "1.0",
         "233.24",
         "233.63",
         "1.0",
         "1.0",
         "1.0",
         "1.0",
         "233.23",
         "233.66",
         "1.0",
         "1.0",
         "1.0",
         "1.0",
         "233.2",
         "233.68",
         "1.0",
         "1.0",
         "1.0",
         "1.0"
        ],
        [
         "25%",
         "10.0",
         "2.0",
         "38.0",
         "0.0",
         "233.69",
         "29.0",
         "130.0",
         "166118.0",
         "12356694.75",
         "233.7",
         "233.79",
         "10.0",
         "20.0",
         "1.0",
         "1.0",
         "233.66",
         "233.81",
         "10.0",
         "25.0",
         "1.0",
         "1.0",
         "233.61",
         "233.83",
         "20.0",
         "17.0",
         "1.0",
         "1.0",
         "233.58",
         "233.89",
         "15.0",
         "26.0",
         "1.0",
         "1.0",
         "233.53",
         "233.94",
         "10.0",
         "25.0",
         "1.0",
         "1.0",
         "233.5",
         "234.0",
         "10.0",
         "2.0",
         "1.0",
         "1.0",
         "233.45",
         "234.1",
         "15.0",
         "44.0",
         "1.0",
         "1.0",
         "233.4",
         "234.13",
         "15.0",
         "63.0",
         "1.0",
         "1.0",
         "233.39",
         "234.17",
         "15.0",
         "60.0",
         "1.0",
         "1.0",
         "233.31",
         "234.25",
         "15.0",
         "5.0",
         "1.0",
         "1.0"
        ],
        [
         "50%",
         "10.0",
         "2.0",
         "38.0",
         "1.0",
         "233.8",
         "200.0",
         "130.0",
         "166328.0",
         "13272576.5",
         "233.76",
         "233.9",
         "100.0",
         "100.0",
         "1.0",
         "1.0",
         "233.7",
         "233.94",
         "32.0",
         "128.0",
         "1.0",
         "1.0",
         "233.68",
         "234.0",
         "200.0",
         "100.0",
         "1.0",
         "1.0",
         "233.66",
         "234.06",
         "200.0",
         "100.0",
         "1.0",
         "1.0",
         "233.58",
         "234.13",
         "100.0",
         "100.0",
         "1.0",
         "1.0",
         "233.53",
         "234.14",
         "37.0",
         "100.0",
         "1.0",
         "1.0",
         "233.5",
         "234.17",
         "100.0",
         "100.0",
         "1.0",
         "1.0",
         "233.45",
         "234.3",
         "100.0",
         "105.0",
         "1.0",
         "1.0",
         "233.4",
         "234.41",
         "100.0",
         "105.0",
         "1.0",
         "1.0",
         "233.39",
         "234.43",
         "55.0",
         "63.0",
         "1.0",
         "1.0"
        ],
        [
         "75%",
         "10.0",
         "2.0",
         "38.0",
         "2.0",
         "233.92",
         "200.0",
         "130.0",
         "166612.5",
         "14568476.0",
         "233.85",
         "234.0",
         "295.0",
         "200.0",
         "2.0",
         "2.0",
         "233.8",
         "234.01",
         "200.0",
         "200.0",
         "2.0",
         "2.0",
         "233.73",
         "234.1",
         "400.0",
         "200.0",
         "2.0",
         "2.0",
         "233.7",
         "234.13",
         "505.0",
         "200.0",
         "2.0",
         "1.0",
         "233.66",
         "234.17",
         "505.0",
         "400.0",
         "2.0",
         "1.0",
         "233.58",
         "234.25",
         "115.0",
         "200.0",
         "2.0",
         "1.0",
         "233.53",
         "234.41",
         "110.0",
         "200.0",
         "2.0",
         "2.0",
         "233.5",
         "234.43",
         "109.0",
         "500.0",
         "2.0",
         "2.0",
         "233.45",
         "234.5",
         "110.0",
         "400.0",
         "2.0",
         "2.0",
         "233.4",
         "234.59",
         "110.0",
         "105.0",
         "2.0",
         "4.0"
        ],
        [
         "max",
         "10.0",
         "2.0",
         "38.0",
         "9.0",
         "235.0",
         "1200.0",
         "130.0",
         "2215188.0",
         "15569241.0",
         "233.98",
         "234.13",
         "1600.0",
         "800.0",
         "7.0",
         "7.0",
         "233.95",
         "234.17",
         "1607.0",
         "600.0",
         "4.0",
         "7.0",
         "233.93",
         "234.41",
         "1607.0",
         "800.0",
         "4.0",
         "8.0",
         "233.92",
         "234.43",
         "1607.0",
         "600.0",
         "4.0",
         "7.0",
         "233.81",
         "234.5",
         "1607.0",
         "600.0",
         "3.0",
         "7.0",
         "233.8",
         "234.75",
         "1400.0",
         "600.0",
         "3.0",
         "7.0",
         "233.79",
         "234.79",
         "1207.0",
         "2000.0",
         "3.0",
         "7.0",
         "233.71",
         "234.89",
         "1207.0",
         "2000.0",
         "3.0",
         "7.0",
         "233.7",
         "235.0",
         "1207.0",
         "2000.0",
         "3.0",
         "7.0",
         "233.66",
         "235.03",
         "1109.0",
         "2000.0",
         "3.0",
         "7.0"
        ]
       ],
       "shape": {
        "columns": 69,
        "rows": 8
       }
      },
      "text/html": [
       "<div>\n",
       "<style scoped>\n",
       "    .dataframe tbody tr th:only-of-type {\n",
       "        vertical-align: middle;\n",
       "    }\n",
       "\n",
       "    .dataframe tbody tr th {\n",
       "        vertical-align: top;\n",
       "    }\n",
       "\n",
       "    .dataframe thead th {\n",
       "        text-align: right;\n",
       "    }\n",
       "</style>\n",
       "<table border=\"1\" class=\"dataframe\">\n",
       "  <thead>\n",
       "    <tr style=\"text-align: right;\">\n",
       "      <th></th>\n",
       "      <th>rtype</th>\n",
       "      <th>publisher_id</th>\n",
       "      <th>instrument_id</th>\n",
       "      <th>depth</th>\n",
       "      <th>price</th>\n",
       "      <th>size</th>\n",
       "      <th>flags</th>\n",
       "      <th>ts_in_delta</th>\n",
       "      <th>sequence</th>\n",
       "      <th>bid_px_00</th>\n",
       "      <th>...</th>\n",
       "      <th>bid_sz_08</th>\n",
       "      <th>ask_sz_08</th>\n",
       "      <th>bid_ct_08</th>\n",
       "      <th>ask_ct_08</th>\n",
       "      <th>bid_px_09</th>\n",
       "      <th>ask_px_09</th>\n",
       "      <th>bid_sz_09</th>\n",
       "      <th>ask_sz_09</th>\n",
       "      <th>bid_ct_09</th>\n",
       "      <th>ask_ct_09</th>\n",
       "    </tr>\n",
       "  </thead>\n",
       "  <tbody>\n",
       "    <tr>\n",
       "      <th>count</th>\n",
       "      <td>5000.0</td>\n",
       "      <td>5000.0</td>\n",
       "      <td>5000.0</td>\n",
       "      <td>5000.000000</td>\n",
       "      <td>5000.000000</td>\n",
       "      <td>5000.000000</td>\n",
       "      <td>5000.000000</td>\n",
       "      <td>5.000000e+03</td>\n",
       "      <td>5.000000e+03</td>\n",
       "      <td>5000.000000</td>\n",
       "      <td>...</td>\n",
       "      <td>5000.000000</td>\n",
       "      <td>5000.000000</td>\n",
       "      <td>5000.00000</td>\n",
       "      <td>5000.000000</td>\n",
       "      <td>5000.000000</td>\n",
       "      <td>5000.000000</td>\n",
       "      <td>5000.000000</td>\n",
       "      <td>5000.000000</td>\n",
       "      <td>5000.000000</td>\n",
       "      <td>5000.000000</td>\n",
       "    </tr>\n",
       "    <tr>\n",
       "      <th>mean</th>\n",
       "      <td>10.0</td>\n",
       "      <td>2.0</td>\n",
       "      <td>38.0</td>\n",
       "      <td>1.407600</td>\n",
       "      <td>233.806564</td>\n",
       "      <td>153.169200</td>\n",
       "      <td>128.031600</td>\n",
       "      <td>1.707528e+05</td>\n",
       "      <td>1.344078e+07</td>\n",
       "      <td>233.755936</td>\n",
       "      <td>...</td>\n",
       "      <td>89.929600</td>\n",
       "      <td>259.928600</td>\n",
       "      <td>1.38500</td>\n",
       "      <td>1.886200</td>\n",
       "      <td>233.364424</td>\n",
       "      <td>234.464900</td>\n",
       "      <td>68.382200</td>\n",
       "      <td>185.662200</td>\n",
       "      <td>1.434200</td>\n",
       "      <td>2.097200</td>\n",
       "    </tr>\n",
       "    <tr>\n",
       "      <th>std</th>\n",
       "      <td>0.0</td>\n",
       "      <td>0.0</td>\n",
       "      <td>0.0</td>\n",
       "      <td>1.455158</td>\n",
       "      <td>0.170972</td>\n",
       "      <td>129.459973</td>\n",
       "      <td>15.802283</td>\n",
       "      <td>5.433114e+04</td>\n",
       "      <td>1.254097e+06</td>\n",
       "      <td>0.112182</td>\n",
       "      <td>...</td>\n",
       "      <td>135.718278</td>\n",
       "      <td>450.030627</td>\n",
       "      <td>0.50242</td>\n",
       "      <td>1.341943</td>\n",
       "      <td>0.076242</td>\n",
       "      <td>0.232418</td>\n",
       "      <td>89.704575</td>\n",
       "      <td>344.015312</td>\n",
       "      <td>0.504104</td>\n",
       "      <td>1.460198</td>\n",
       "    </tr>\n",
       "    <tr>\n",
       "      <th>min</th>\n",
       "      <td>10.0</td>\n",
       "      <td>2.0</td>\n",
       "      <td>38.0</td>\n",
       "      <td>0.000000</td>\n",
       "      <td>232.600000</td>\n",
       "      <td>1.000000</td>\n",
       "      <td>0.000000</td>\n",
       "      <td>1.655530e+05</td>\n",
       "      <td>1.140585e+07</td>\n",
       "      <td>233.500000</td>\n",
       "      <td>...</td>\n",
       "      <td>1.000000</td>\n",
       "      <td>1.000000</td>\n",
       "      <td>1.00000</td>\n",
       "      <td>1.000000</td>\n",
       "      <td>233.200000</td>\n",
       "      <td>233.680000</td>\n",
       "      <td>1.000000</td>\n",
       "      <td>1.000000</td>\n",
       "      <td>1.000000</td>\n",
       "      <td>1.000000</td>\n",
       "    </tr>\n",
       "    <tr>\n",
       "      <th>25%</th>\n",
       "      <td>10.0</td>\n",
       "      <td>2.0</td>\n",
       "      <td>38.0</td>\n",
       "      <td>0.000000</td>\n",
       "      <td>233.690000</td>\n",
       "      <td>29.000000</td>\n",
       "      <td>130.000000</td>\n",
       "      <td>1.661180e+05</td>\n",
       "      <td>1.235669e+07</td>\n",
       "      <td>233.700000</td>\n",
       "      <td>...</td>\n",
       "      <td>15.000000</td>\n",
       "      <td>60.000000</td>\n",
       "      <td>1.00000</td>\n",
       "      <td>1.000000</td>\n",
       "      <td>233.310000</td>\n",
       "      <td>234.250000</td>\n",
       "      <td>15.000000</td>\n",
       "      <td>5.000000</td>\n",
       "      <td>1.000000</td>\n",
       "      <td>1.000000</td>\n",
       "    </tr>\n",
       "    <tr>\n",
       "      <th>50%</th>\n",
       "      <td>10.0</td>\n",
       "      <td>2.0</td>\n",
       "      <td>38.0</td>\n",
       "      <td>1.000000</td>\n",
       "      <td>233.800000</td>\n",
       "      <td>200.000000</td>\n",
       "      <td>130.000000</td>\n",
       "      <td>1.663280e+05</td>\n",
       "      <td>1.327258e+07</td>\n",
       "      <td>233.760000</td>\n",
       "      <td>...</td>\n",
       "      <td>100.000000</td>\n",
       "      <td>105.000000</td>\n",
       "      <td>1.00000</td>\n",
       "      <td>1.000000</td>\n",
       "      <td>233.390000</td>\n",
       "      <td>234.430000</td>\n",
       "      <td>55.000000</td>\n",
       "      <td>63.000000</td>\n",
       "      <td>1.000000</td>\n",
       "      <td>1.000000</td>\n",
       "    </tr>\n",
       "    <tr>\n",
       "      <th>75%</th>\n",
       "      <td>10.0</td>\n",
       "      <td>2.0</td>\n",
       "      <td>38.0</td>\n",
       "      <td>2.000000</td>\n",
       "      <td>233.920000</td>\n",
       "      <td>200.000000</td>\n",
       "      <td>130.000000</td>\n",
       "      <td>1.666125e+05</td>\n",
       "      <td>1.456848e+07</td>\n",
       "      <td>233.850000</td>\n",
       "      <td>...</td>\n",
       "      <td>110.000000</td>\n",
       "      <td>400.000000</td>\n",
       "      <td>2.00000</td>\n",
       "      <td>2.000000</td>\n",
       "      <td>233.400000</td>\n",
       "      <td>234.590000</td>\n",
       "      <td>110.000000</td>\n",
       "      <td>105.000000</td>\n",
       "      <td>2.000000</td>\n",
       "      <td>4.000000</td>\n",
       "    </tr>\n",
       "    <tr>\n",
       "      <th>max</th>\n",
       "      <td>10.0</td>\n",
       "      <td>2.0</td>\n",
       "      <td>38.0</td>\n",
       "      <td>9.000000</td>\n",
       "      <td>235.000000</td>\n",
       "      <td>1200.000000</td>\n",
       "      <td>130.000000</td>\n",
       "      <td>2.215188e+06</td>\n",
       "      <td>1.556924e+07</td>\n",
       "      <td>233.980000</td>\n",
       "      <td>...</td>\n",
       "      <td>1207.000000</td>\n",
       "      <td>2000.000000</td>\n",
       "      <td>3.00000</td>\n",
       "      <td>7.000000</td>\n",
       "      <td>233.660000</td>\n",
       "      <td>235.030000</td>\n",
       "      <td>1109.000000</td>\n",
       "      <td>2000.000000</td>\n",
       "      <td>3.000000</td>\n",
       "      <td>7.000000</td>\n",
       "    </tr>\n",
       "  </tbody>\n",
       "</table>\n",
       "<p>8 rows × 69 columns</p>\n",
       "</div>"
      ],
      "text/plain": [
       "        rtype  publisher_id  instrument_id        depth        price  \\\n",
       "count  5000.0        5000.0         5000.0  5000.000000  5000.000000   \n",
       "mean     10.0           2.0           38.0     1.407600   233.806564   \n",
       "std       0.0           0.0            0.0     1.455158     0.170972   \n",
       "min      10.0           2.0           38.0     0.000000   232.600000   \n",
       "25%      10.0           2.0           38.0     0.000000   233.690000   \n",
       "50%      10.0           2.0           38.0     1.000000   233.800000   \n",
       "75%      10.0           2.0           38.0     2.000000   233.920000   \n",
       "max      10.0           2.0           38.0     9.000000   235.000000   \n",
       "\n",
       "              size        flags   ts_in_delta      sequence    bid_px_00  ...  \\\n",
       "count  5000.000000  5000.000000  5.000000e+03  5.000000e+03  5000.000000  ...   \n",
       "mean    153.169200   128.031600  1.707528e+05  1.344078e+07   233.755936  ...   \n",
       "std     129.459973    15.802283  5.433114e+04  1.254097e+06     0.112182  ...   \n",
       "min       1.000000     0.000000  1.655530e+05  1.140585e+07   233.500000  ...   \n",
       "25%      29.000000   130.000000  1.661180e+05  1.235669e+07   233.700000  ...   \n",
       "50%     200.000000   130.000000  1.663280e+05  1.327258e+07   233.760000  ...   \n",
       "75%     200.000000   130.000000  1.666125e+05  1.456848e+07   233.850000  ...   \n",
       "max    1200.000000   130.000000  2.215188e+06  1.556924e+07   233.980000  ...   \n",
       "\n",
       "         bid_sz_08    ask_sz_08   bid_ct_08    ask_ct_08    bid_px_09  \\\n",
       "count  5000.000000  5000.000000  5000.00000  5000.000000  5000.000000   \n",
       "mean     89.929600   259.928600     1.38500     1.886200   233.364424   \n",
       "std     135.718278   450.030627     0.50242     1.341943     0.076242   \n",
       "min       1.000000     1.000000     1.00000     1.000000   233.200000   \n",
       "25%      15.000000    60.000000     1.00000     1.000000   233.310000   \n",
       "50%     100.000000   105.000000     1.00000     1.000000   233.390000   \n",
       "75%     110.000000   400.000000     2.00000     2.000000   233.400000   \n",
       "max    1207.000000  2000.000000     3.00000     7.000000   233.660000   \n",
       "\n",
       "         ask_px_09    bid_sz_09    ask_sz_09    bid_ct_09    ask_ct_09  \n",
       "count  5000.000000  5000.000000  5000.000000  5000.000000  5000.000000  \n",
       "mean    234.464900    68.382200   185.662200     1.434200     2.097200  \n",
       "std       0.232418    89.704575   344.015312     0.504104     1.460198  \n",
       "min     233.680000     1.000000     1.000000     1.000000     1.000000  \n",
       "25%     234.250000    15.000000     5.000000     1.000000     1.000000  \n",
       "50%     234.430000    55.000000    63.000000     1.000000     1.000000  \n",
       "75%     234.590000   110.000000   105.000000     2.000000     4.000000  \n",
       "max     235.030000  1109.000000  2000.000000     3.000000     7.000000  \n",
       "\n",
       "[8 rows x 69 columns]"
      ]
     },
     "execution_count": 3,
     "metadata": {},
     "output_type": "execute_result"
    }
   ],
   "source": [
    "order_data.describe()"
   ]
  },
  {
   "cell_type": "code",
   "execution_count": 14,
   "id": "d1e80110",
   "metadata": {},
   "outputs": [],
   "source": [
    "# Initialize OFI column\n",
    "order_data['best_level_ofi'] = 0"
   ]
  },
  {
   "cell_type": "code",
   "execution_count": 31,
   "id": "0268cc0d",
   "metadata": {},
   "outputs": [],
   "source": [
    "def get_ofi(dtfrm, i, m):\n",
    "\n",
    "    bid_px_m = f'bid_px_0{m}'\n",
    "    bid_sz_m = f'bid_sz_0{m}'\n",
    "    ask_px_m = f'ask_px_0{m}'\n",
    "    ask_sz_m = f'ask_sz_0{m}'\n",
    "\n",
    "\n",
    "    # Get bid and ask prices and sizes at time i and i-1\n",
    "    bid_px_now = dtfrm.at[i, bid_px_m]\n",
    "    bid_px_prev = dtfrm.at[i - 1, bid_px_m]\n",
    "    bid_sz_now = dtfrm.at[i, bid_sz_m]\n",
    "    bid_sz_prev = dtfrm.at[i - 1, bid_sz_m]\n",
    "\n",
    "    ask_px_now = dtfrm.at[i, ask_px_m]\n",
    "    ask_px_prev = dtfrm.at[i - 1, ask_px_m]\n",
    "    ask_sz_now = dtfrm.at[i, ask_sz_m]\n",
    "    ask_sz_prev = dtfrm.at[i - 1, ask_sz_m]\n",
    "\n",
    "    # Compute bid-side order flow\n",
    "    if bid_px_now > bid_px_prev:\n",
    "        of_bid = bid_sz_now\n",
    "    elif bid_px_now == bid_px_prev:\n",
    "        of_bid = bid_sz_now - bid_sz_prev\n",
    "    else:\n",
    "        of_bid = -bid_sz_prev\n",
    "\n",
    "    # Compute ask-side order flow\n",
    "    if ask_px_now > ask_px_prev:\n",
    "        of_ask = -ask_sz_now\n",
    "    elif ask_px_now == ask_px_prev:\n",
    "        of_ask = ask_sz_now - ask_sz_prev\n",
    "    else:\n",
    "        of_ask = ask_sz_prev\n",
    "\n",
    "    # compute avg depth\n",
    "    avg_depth_m = (bid_sz_now + ask_sz_now) * 0.5\n",
    "\n",
    "    return of_bid - of_ask, avg_depth_m\n"
   ]
  },
  {
   "cell_type": "code",
   "execution_count": 32,
   "id": "23cfa1f8",
   "metadata": {},
   "outputs": [],
   "source": [
    "# Loop through rows\n",
    "for i in range(1, len(order_data)):\n",
    "\n",
    "    order_data.loc[i, 'best_level_ofi'], _ = get_ofi(order_data, i, 0)\n"
   ]
  },
  {
   "cell_type": "code",
   "execution_count": 44,
   "id": "d1cce29f",
   "metadata": {},
   "outputs": [
    {
     "data": {
      "application/vnd.microsoft.datawrangler.viewer.v0+json": {
       "columns": [
        {
         "name": "index",
         "rawType": "int64",
         "type": "integer"
        },
        {
         "name": "best_level_ofi",
         "rawType": "int64",
         "type": "integer"
        }
       ],
       "ref": "85cb5b6a-13c3-4123-9515-64022286ed11",
       "rows": [
        [
         "0",
         "0"
        ],
        [
         "1",
         "2"
        ],
        [
         "2",
         "3"
        ],
        [
         "3",
         "0"
        ],
        [
         "4",
         "0"
        ],
        [
         "5",
         "0"
        ],
        [
         "6",
         "0"
        ],
        [
         "7",
         "-200"
        ],
        [
         "8",
         "1"
        ],
        [
         "9",
         "-1"
        ],
        [
         "10",
         "-3"
        ],
        [
         "11",
         "1"
        ],
        [
         "12",
         "-1"
        ],
        [
         "13",
         "-2"
        ],
        [
         "14",
         "2"
        ],
        [
         "15",
         "3"
        ],
        [
         "16",
         "0"
        ],
        [
         "17",
         "0"
        ],
        [
         "18",
         "-3"
        ],
        [
         "19",
         "-2"
        ],
        [
         "20",
         "3"
        ],
        [
         "21",
         "2"
        ],
        [
         "22",
         "0"
        ],
        [
         "23",
         "0"
        ],
        [
         "24",
         "0"
        ],
        [
         "25",
         "0"
        ],
        [
         "26",
         "0"
        ],
        [
         "27",
         "0"
        ],
        [
         "28",
         "0"
        ],
        [
         "29",
         "0"
        ],
        [
         "30",
         "0"
        ],
        [
         "31",
         "0"
        ],
        [
         "32",
         "0"
        ],
        [
         "33",
         "0"
        ],
        [
         "34",
         "0"
        ],
        [
         "35",
         "-200"
        ],
        [
         "36",
         "0"
        ],
        [
         "37",
         "0"
        ],
        [
         "38",
         "0"
        ],
        [
         "39",
         "0"
        ],
        [
         "40",
         "0"
        ],
        [
         "41",
         "0"
        ],
        [
         "42",
         "0"
        ],
        [
         "43",
         "0"
        ],
        [
         "44",
         "0"
        ],
        [
         "45",
         "-139"
        ],
        [
         "46",
         "-2"
        ],
        [
         "47",
         "-3"
        ],
        [
         "48",
         "2"
        ],
        [
         "49",
         "-2"
        ]
       ],
       "shape": {
        "columns": 1,
        "rows": 5000
       }
      },
      "text/plain": [
       "0        0\n",
       "1        2\n",
       "2        3\n",
       "3        0\n",
       "4        0\n",
       "        ..\n",
       "4995     0\n",
       "4996     0\n",
       "4997     0\n",
       "4998     0\n",
       "4999   -20\n",
       "Name: best_level_ofi, Length: 5000, dtype: int64"
      ]
     },
     "execution_count": 44,
     "metadata": {},
     "output_type": "execute_result"
    }
   ],
   "source": [
    "order_data['best_level_ofi']"
   ]
  },
  {
   "cell_type": "code",
   "execution_count": null,
   "id": "e39e3cdc",
   "metadata": {},
   "outputs": [],
   "source": [
    "multi_level_ofi_cols = []\n",
    "# initialize normalized ofi columns from 0 to 9\n",
    "for m in range(10):\n",
    "    order_data[f'ofi_m{m}'] = 0.0\n",
    "    multi_level_ofi_cols.append(f'ofi_m{m}')\n"
   ]
  },
  {
   "cell_type": "code",
   "execution_count": 38,
   "id": "061bd766",
   "metadata": {},
   "outputs": [],
   "source": [
    "for i in range(1, len(order_data)):\n",
    "\n",
    "    depth_sum = 0\n",
    "\n",
    "    for m in range(10):\n",
    "        ofi, avg_depth_m = get_ofi(order_data, i, m)\n",
    "        depth_sum += avg_depth_m\n",
    "        avg_depth = depth_sum / (m + 1)\n",
    "\n",
    "        value = round(ofi / avg_depth, 4) if avg_depth != 0 else 0.0\n",
    "        order_data.loc[i, f'ofi_m{m}'] = value"
   ]
  },
  {
   "cell_type": "code",
   "execution_count": 39,
   "id": "6977f39b",
   "metadata": {},
   "outputs": [
    {
     "data": {
      "application/vnd.microsoft.datawrangler.viewer.v0+json": {
       "columns": [
        {
         "name": "index",
         "rawType": "object",
         "type": "string"
        },
        {
         "name": "ofi_m0",
         "rawType": "float64",
         "type": "float"
        },
        {
         "name": "ofi_m1",
         "rawType": "float64",
         "type": "float"
        },
        {
         "name": "ofi_m2",
         "rawType": "float64",
         "type": "float"
        },
        {
         "name": "ofi_m3",
         "rawType": "float64",
         "type": "float"
        },
        {
         "name": "ofi_m4",
         "rawType": "float64",
         "type": "float"
        },
        {
         "name": "ofi_m5",
         "rawType": "float64",
         "type": "float"
        },
        {
         "name": "ofi_m6",
         "rawType": "float64",
         "type": "float"
        },
        {
         "name": "ofi_m7",
         "rawType": "float64",
         "type": "float"
        },
        {
         "name": "ofi_m8",
         "rawType": "float64",
         "type": "float"
        },
        {
         "name": "ofi_m9",
         "rawType": "float64",
         "type": "float"
        }
       ],
       "ref": "3b44e5c3-2898-4bec-a265-93dd2c91061a",
       "rows": [
        [
         "count",
         "5000.0",
         "5000.0",
         "5000.0",
         "5000.0",
         "5000.0",
         "5000.0",
         "5000.0",
         "5000.0",
         "5000.0",
         "5000.0"
        ],
        [
         "mean",
         "-0.30074248",
         "-0.0712418",
         "0.00898721999999999",
         "-0.006670160000000001",
         "-0.017395039999999997",
         "-0.0114578",
         "-0.022964639999999998",
         "-0.02552206",
         "-0.02179162",
         "-0.025615879999999997"
        ],
        [
         "std",
         "5.021536994341194",
         "1.271547371907342",
         "1.3241611630885046",
         "1.5000387635938255",
         "1.2497958879527944",
         "1.114818191797811",
         "1.1454648228041198",
         "1.2012279273502415",
         "1.1165059077748958",
         "1.2396103394787066"
        ],
        [
         "min",
         "-200.0",
         "-20.7792",
         "-21.8182",
         "-6.9718",
         "-8.3241",
         "-6.6562",
         "-8.7173",
         "-9.3213",
         "-10.0869",
         "-10.8607"
        ],
        [
         "25%",
         "0.0",
         "0.0",
         "-0.007425",
         "-0.0037",
         "-0.0034",
         "-0.0044",
         "-0.0352",
         "-0.03345",
         "-0.033125",
         "-0.007225"
        ],
        [
         "50%",
         "0.0",
         "0.0",
         "0.0",
         "0.0",
         "0.0",
         "0.0",
         "0.0",
         "0.0",
         "0.0",
         "0.0"
        ],
        [
         "75%",
         "0.0",
         "0.0",
         "0.06384999999999999",
         "0.0047",
         "0.0037",
         "0.0047",
         "0.0331",
         "0.0336",
         "0.03185",
         "0.0076"
        ],
        [
         "max",
         "19.2",
         "6.3492",
         "9.6774",
         "7.0444",
         "6.5279",
         "6.2458",
         "6.3935",
         "6.7289",
         "6.6989",
         "7.2953"
        ]
       ],
       "shape": {
        "columns": 10,
        "rows": 8
       }
      },
      "text/html": [
       "<div>\n",
       "<style scoped>\n",
       "    .dataframe tbody tr th:only-of-type {\n",
       "        vertical-align: middle;\n",
       "    }\n",
       "\n",
       "    .dataframe tbody tr th {\n",
       "        vertical-align: top;\n",
       "    }\n",
       "\n",
       "    .dataframe thead th {\n",
       "        text-align: right;\n",
       "    }\n",
       "</style>\n",
       "<table border=\"1\" class=\"dataframe\">\n",
       "  <thead>\n",
       "    <tr style=\"text-align: right;\">\n",
       "      <th></th>\n",
       "      <th>ofi_m0</th>\n",
       "      <th>ofi_m1</th>\n",
       "      <th>ofi_m2</th>\n",
       "      <th>ofi_m3</th>\n",
       "      <th>ofi_m4</th>\n",
       "      <th>ofi_m5</th>\n",
       "      <th>ofi_m6</th>\n",
       "      <th>ofi_m7</th>\n",
       "      <th>ofi_m8</th>\n",
       "      <th>ofi_m9</th>\n",
       "    </tr>\n",
       "  </thead>\n",
       "  <tbody>\n",
       "    <tr>\n",
       "      <th>count</th>\n",
       "      <td>5000.000000</td>\n",
       "      <td>5000.000000</td>\n",
       "      <td>5000.000000</td>\n",
       "      <td>5000.000000</td>\n",
       "      <td>5000.000000</td>\n",
       "      <td>5000.000000</td>\n",
       "      <td>5000.000000</td>\n",
       "      <td>5000.000000</td>\n",
       "      <td>5000.000000</td>\n",
       "      <td>5000.000000</td>\n",
       "    </tr>\n",
       "    <tr>\n",
       "      <th>mean</th>\n",
       "      <td>-0.300742</td>\n",
       "      <td>-0.071242</td>\n",
       "      <td>0.008987</td>\n",
       "      <td>-0.006670</td>\n",
       "      <td>-0.017395</td>\n",
       "      <td>-0.011458</td>\n",
       "      <td>-0.022965</td>\n",
       "      <td>-0.025522</td>\n",
       "      <td>-0.021792</td>\n",
       "      <td>-0.025616</td>\n",
       "    </tr>\n",
       "    <tr>\n",
       "      <th>std</th>\n",
       "      <td>5.021537</td>\n",
       "      <td>1.271547</td>\n",
       "      <td>1.324161</td>\n",
       "      <td>1.500039</td>\n",
       "      <td>1.249796</td>\n",
       "      <td>1.114818</td>\n",
       "      <td>1.145465</td>\n",
       "      <td>1.201228</td>\n",
       "      <td>1.116506</td>\n",
       "      <td>1.239610</td>\n",
       "    </tr>\n",
       "    <tr>\n",
       "      <th>min</th>\n",
       "      <td>-200.000000</td>\n",
       "      <td>-20.779200</td>\n",
       "      <td>-21.818200</td>\n",
       "      <td>-6.971800</td>\n",
       "      <td>-8.324100</td>\n",
       "      <td>-6.656200</td>\n",
       "      <td>-8.717300</td>\n",
       "      <td>-9.321300</td>\n",
       "      <td>-10.086900</td>\n",
       "      <td>-10.860700</td>\n",
       "    </tr>\n",
       "    <tr>\n",
       "      <th>25%</th>\n",
       "      <td>0.000000</td>\n",
       "      <td>0.000000</td>\n",
       "      <td>-0.007425</td>\n",
       "      <td>-0.003700</td>\n",
       "      <td>-0.003400</td>\n",
       "      <td>-0.004400</td>\n",
       "      <td>-0.035200</td>\n",
       "      <td>-0.033450</td>\n",
       "      <td>-0.033125</td>\n",
       "      <td>-0.007225</td>\n",
       "    </tr>\n",
       "    <tr>\n",
       "      <th>50%</th>\n",
       "      <td>0.000000</td>\n",
       "      <td>0.000000</td>\n",
       "      <td>0.000000</td>\n",
       "      <td>0.000000</td>\n",
       "      <td>0.000000</td>\n",
       "      <td>0.000000</td>\n",
       "      <td>0.000000</td>\n",
       "      <td>0.000000</td>\n",
       "      <td>0.000000</td>\n",
       "      <td>0.000000</td>\n",
       "    </tr>\n",
       "    <tr>\n",
       "      <th>75%</th>\n",
       "      <td>0.000000</td>\n",
       "      <td>0.000000</td>\n",
       "      <td>0.063850</td>\n",
       "      <td>0.004700</td>\n",
       "      <td>0.003700</td>\n",
       "      <td>0.004700</td>\n",
       "      <td>0.033100</td>\n",
       "      <td>0.033600</td>\n",
       "      <td>0.031850</td>\n",
       "      <td>0.007600</td>\n",
       "    </tr>\n",
       "    <tr>\n",
       "      <th>max</th>\n",
       "      <td>19.200000</td>\n",
       "      <td>6.349200</td>\n",
       "      <td>9.677400</td>\n",
       "      <td>7.044400</td>\n",
       "      <td>6.527900</td>\n",
       "      <td>6.245800</td>\n",
       "      <td>6.393500</td>\n",
       "      <td>6.728900</td>\n",
       "      <td>6.698900</td>\n",
       "      <td>7.295300</td>\n",
       "    </tr>\n",
       "  </tbody>\n",
       "</table>\n",
       "</div>"
      ],
      "text/plain": [
       "            ofi_m0       ofi_m1       ofi_m2       ofi_m3       ofi_m4  \\\n",
       "count  5000.000000  5000.000000  5000.000000  5000.000000  5000.000000   \n",
       "mean     -0.300742    -0.071242     0.008987    -0.006670    -0.017395   \n",
       "std       5.021537     1.271547     1.324161     1.500039     1.249796   \n",
       "min    -200.000000   -20.779200   -21.818200    -6.971800    -8.324100   \n",
       "25%       0.000000     0.000000    -0.007425    -0.003700    -0.003400   \n",
       "50%       0.000000     0.000000     0.000000     0.000000     0.000000   \n",
       "75%       0.000000     0.000000     0.063850     0.004700     0.003700   \n",
       "max      19.200000     6.349200     9.677400     7.044400     6.527900   \n",
       "\n",
       "            ofi_m5       ofi_m6       ofi_m7       ofi_m8       ofi_m9  \n",
       "count  5000.000000  5000.000000  5000.000000  5000.000000  5000.000000  \n",
       "mean     -0.011458    -0.022965    -0.025522    -0.021792    -0.025616  \n",
       "std       1.114818     1.145465     1.201228     1.116506     1.239610  \n",
       "min      -6.656200    -8.717300    -9.321300   -10.086900   -10.860700  \n",
       "25%      -0.004400    -0.035200    -0.033450    -0.033125    -0.007225  \n",
       "50%       0.000000     0.000000     0.000000     0.000000     0.000000  \n",
       "75%       0.004700     0.033100     0.033600     0.031850     0.007600  \n",
       "max       6.245800     6.393500     6.728900     6.698900     7.295300  "
      ]
     },
     "execution_count": 39,
     "metadata": {},
     "output_type": "execute_result"
    }
   ],
   "source": [
    "\n",
    "order_data[multi_level_ofi_cols].describe()"
   ]
  },
  {
   "cell_type": "markdown",
   "id": "0ed1ed8e",
   "metadata": {},
   "source": [
    "## Integrated OFI using PCA"
   ]
  },
  {
   "cell_type": "markdown",
   "id": "0c55a390",
   "metadata": {},
   "source": [
    "Importing necessary libraries for PCA and other calculations"
   ]
  },
  {
   "cell_type": "code",
   "execution_count": 45,
   "id": "d63dfd5a",
   "metadata": {},
   "outputs": [],
   "source": [
    "from sklearn.decomposition import PCA\n",
    "import numpy as np"
   ]
  },
  {
   "cell_type": "markdown",
   "id": "dbd52dc3",
   "metadata": {},
   "source": [
    "Getting the PCA for all the multi level OFI and calculating the integrated OFI using the first principal component vector by normalize it and multiplying with the multi level OFIs."
   ]
  },
  {
   "cell_type": "code",
   "execution_count": null,
   "id": "5a19ec7b",
   "metadata": {},
   "outputs": [],
   "source": [
    "X = order_data[multi_level_ofi_cols].dropna().values  # shape: (n_samples, 10)\n",
    "\n",
    "pca = PCA(n_components=1)\n",
    "pca.fit(X)\n",
    "\n",
    "# First principal component vector\n",
    "w1 = pca.components_[0]           # shape: (10,) row-vector which is equivalent to w1^T\n",
    "w1_normalized = w1 / np.sum(np.abs(w1))  # normalize by L1 norm\n",
    "\n",
    "order_data['integrated_ofi'] = np.dot(order_data[multi_level_ofi_cols], w1_normalized)\n",
    "order_data['integrated_ofi'] = order_data['integrated_ofi'].round(4)"
   ]
  },
  {
   "cell_type": "code",
   "execution_count": 49,
   "id": "2729f2a0",
   "metadata": {},
   "outputs": [
    {
     "data": {
      "application/vnd.microsoft.datawrangler.viewer.v0+json": {
       "columns": [
        {
         "name": "index",
         "rawType": "int64",
         "type": "integer"
        },
        {
         "name": "integrated_ofi",
         "rawType": "float64",
         "type": "float"
        }
       ],
       "ref": "e9004d33-eb0e-419c-bb49-b6c948cdaa92",
       "rows": [
        [
         "0",
         "0.0"
        ],
        [
         "1",
         "0.0098"
        ],
        [
         "2",
         "0.0145"
        ],
        [
         "3",
         "0.0381"
        ],
        [
         "4",
         "-0.0516"
        ],
        [
         "5",
         "0.0389"
        ],
        [
         "6",
         "-0.1413"
        ],
        [
         "7",
         "-0.9721"
        ],
        [
         "8",
         "0.2203"
        ],
        [
         "9",
         "-0.214"
        ],
        [
         "10",
         "-0.0147"
        ],
        [
         "11",
         "0.0048"
        ],
        [
         "12",
         "-0.0049"
        ],
        [
         "13",
         "-0.0099"
        ],
        [
         "14",
         "0.192"
        ],
        [
         "15",
         "0.0245"
        ],
        [
         "16",
         "0.1609"
        ],
        [
         "17",
         "-0.0041"
        ],
        [
         "18",
         "-0.0248"
        ],
        [
         "19",
         "-0.1596"
        ],
        [
         "20",
         "0.0146"
        ],
        [
         "21",
         "0.0097"
        ],
        [
         "22",
         "-0.0643"
        ],
        [
         "23",
         "0.0653"
        ],
        [
         "24",
         "0.037"
        ],
        [
         "25",
         "0.1151"
        ],
        [
         "26",
         "-0.0146"
        ],
        [
         "27",
         "-0.1245"
        ],
        [
         "28",
         "0.0888"
        ],
        [
         "29",
         "0.0034"
        ],
        [
         "30",
         "-0.004"
        ],
        [
         "31",
         "0.0292"
        ],
        [
         "32",
         "-0.0573"
        ],
        [
         "33",
         "0.0582"
        ],
        [
         "34",
         "0.0292"
        ],
        [
         "35",
         "-0.9721"
        ],
        [
         "36",
         "-0.1244"
        ],
        [
         "37",
         "0.0888"
        ],
        [
         "38",
         "-0.0573"
        ],
        [
         "39",
         "0.0043"
        ],
        [
         "40",
         "0.0039"
        ],
        [
         "41",
         "-0.1185"
        ],
        [
         "42",
         "0.0292"
        ],
        [
         "43",
         "0.0687"
        ],
        [
         "44",
         "-0.0035"
        ],
        [
         "45",
         "-1.1336"
        ],
        [
         "46",
         "-0.0165"
        ],
        [
         "47",
         "-0.1123"
        ],
        [
         "48",
         "0.1239"
        ],
        [
         "49",
         "-0.1095"
        ]
       ],
       "shape": {
        "columns": 1,
        "rows": 5000
       }
      },
      "text/plain": [
       "0       0.0000\n",
       "1       0.0098\n",
       "2       0.0145\n",
       "3       0.0381\n",
       "4      -0.0516\n",
       "         ...  \n",
       "4995    0.1125\n",
       "4996   -0.0265\n",
       "4997   -0.1092\n",
       "4998    0.0856\n",
       "4999   -2.6896\n",
       "Name: integrated_ofi, Length: 5000, dtype: float64"
      ]
     },
     "execution_count": 49,
     "metadata": {},
     "output_type": "execute_result"
    }
   ],
   "source": [
    "order_data['integrated_ofi']"
   ]
  },
  {
   "cell_type": "markdown",
   "id": "5fb04507",
   "metadata": {},
   "source": [
    "### Log returns and summary stats  "
   ]
  },
  {
   "cell_type": "markdown",
   "id": "ca8bf0af",
   "metadata": {},
   "source": [
    "Getting the log returns of the mid price of best bid and ask"
   ]
  },
  {
   "cell_type": "code",
   "execution_count": 50,
   "id": "52d2f350",
   "metadata": {},
   "outputs": [],
   "source": [
    "order_data['log_returns'] = np.log((order_data['bid_px_00'] + order_data['ask_px_00']) / 2).diff()"
   ]
  },
  {
   "cell_type": "code",
   "execution_count": 55,
   "id": "36c11b02",
   "metadata": {},
   "outputs": [
    {
     "data": {
      "application/vnd.microsoft.datawrangler.viewer.v0+json": {
       "columns": [
        {
         "name": "index",
         "rawType": "object",
         "type": "string"
        },
        {
         "name": "Mean",
         "rawType": "float64",
         "type": "float"
        },
        {
         "name": "Std",
         "rawType": "float64",
         "type": "float"
        },
        {
         "name": "Skewness",
         "rawType": "float64",
         "type": "float"
        },
        {
         "name": "Kurtosis",
         "rawType": "float64",
         "type": "float"
        },
        {
         "name": "10%",
         "rawType": "float64",
         "type": "float"
        },
        {
         "name": "25%",
         "rawType": "float64",
         "type": "float"
        },
        {
         "name": "50%",
         "rawType": "float64",
         "type": "float"
        },
        {
         "name": "75%",
         "rawType": "float64",
         "type": "float"
        },
        {
         "name": "90%",
         "rawType": "float64",
         "type": "float"
        }
       ],
       "ref": "79723738-53bc-415e-8ddb-670f1ef7ccfa",
       "rows": [
        [
         "ofi1,(1m)",
         "-0.3",
         "5.02",
         "-27.75",
         "958.89",
         "-0.22",
         "0.0",
         "0.0",
         "0.0",
         "0.22"
        ],
        [
         "ofi2,(1m)",
         "-0.07",
         "1.27",
         "-3.91",
         "44.51",
         "-0.96",
         "0.0",
         "0.0",
         "0.0",
         "0.97"
        ],
        [
         "ofi3,(1m)",
         "0.01",
         "1.32",
         "-2.19",
         "35.44",
         "-0.86",
         "-0.01",
         "0.0",
         "0.06",
         "1.16"
        ],
        [
         "ofi4,(1m)",
         "-0.01",
         "1.5",
         "-0.35",
         "4.92",
         "-1.43",
         "-0.0",
         "0.0",
         "0.0",
         "1.45"
        ],
        [
         "ofi5,(1m)",
         "-0.02",
         "1.25",
         "-0.37",
         "9.05",
         "-1.05",
         "-0.0",
         "0.0",
         "0.0",
         "0.95"
        ],
        [
         "ofi6,(1m)",
         "-0.01",
         "1.11",
         "-0.09",
         "8.31",
         "-0.88",
         "-0.0",
         "0.0",
         "0.0",
         "0.77"
        ],
        [
         "ofi7,(1m)",
         "-0.02",
         "1.15",
         "-0.6",
         "8.44",
         "-1.12",
         "-0.04",
         "0.0",
         "0.03",
         "1.05"
        ],
        [
         "ofi8,(1m)",
         "-0.03",
         "1.2",
         "-1.69",
         "21.34",
         "-0.51",
         "-0.03",
         "0.0",
         "0.03",
         "0.5"
        ],
        [
         "ofi9,(1m)",
         "-0.02",
         "1.12",
         "-1.84",
         "26.49",
         "-0.52",
         "-0.03",
         "0.0",
         "0.03",
         "0.51"
        ],
        [
         "ofi10,(1m)",
         "-0.03",
         "1.24",
         "-2.32",
         "32.65",
         "-0.52",
         "-0.01",
         "0.0",
         "0.01",
         "0.52"
        ],
        [
         "ofiI,(1m)",
         "-0.25",
         "4.22",
         "-27.54",
         "947.99",
         "-0.33",
         "-0.11",
         "0.0",
         "0.1",
         "0.29"
        ],
        [
         "r(1m)",
         "-0.0",
         "0.0",
         "-0.11",
         "38.2",
         "-0.0",
         "0.0",
         "0.0",
         "0.0",
         "0.0"
        ]
       ],
       "shape": {
        "columns": 9,
        "rows": 12
       }
      },
      "text/html": [
       "<div>\n",
       "<style scoped>\n",
       "    .dataframe tbody tr th:only-of-type {\n",
       "        vertical-align: middle;\n",
       "    }\n",
       "\n",
       "    .dataframe tbody tr th {\n",
       "        vertical-align: top;\n",
       "    }\n",
       "\n",
       "    .dataframe thead th {\n",
       "        text-align: right;\n",
       "    }\n",
       "</style>\n",
       "<table border=\"1\" class=\"dataframe\">\n",
       "  <thead>\n",
       "    <tr style=\"text-align: right;\">\n",
       "      <th></th>\n",
       "      <th>Mean</th>\n",
       "      <th>Std</th>\n",
       "      <th>Skewness</th>\n",
       "      <th>Kurtosis</th>\n",
       "      <th>10%</th>\n",
       "      <th>25%</th>\n",
       "      <th>50%</th>\n",
       "      <th>75%</th>\n",
       "      <th>90%</th>\n",
       "    </tr>\n",
       "  </thead>\n",
       "  <tbody>\n",
       "    <tr>\n",
       "      <th>ofi1,(1m)</th>\n",
       "      <td>-0.30</td>\n",
       "      <td>5.02</td>\n",
       "      <td>-27.75</td>\n",
       "      <td>958.89</td>\n",
       "      <td>-0.22</td>\n",
       "      <td>0.00</td>\n",
       "      <td>0.0</td>\n",
       "      <td>0.00</td>\n",
       "      <td>0.22</td>\n",
       "    </tr>\n",
       "    <tr>\n",
       "      <th>ofi2,(1m)</th>\n",
       "      <td>-0.07</td>\n",
       "      <td>1.27</td>\n",
       "      <td>-3.91</td>\n",
       "      <td>44.51</td>\n",
       "      <td>-0.96</td>\n",
       "      <td>0.00</td>\n",
       "      <td>0.0</td>\n",
       "      <td>0.00</td>\n",
       "      <td>0.97</td>\n",
       "    </tr>\n",
       "    <tr>\n",
       "      <th>ofi3,(1m)</th>\n",
       "      <td>0.01</td>\n",
       "      <td>1.32</td>\n",
       "      <td>-2.19</td>\n",
       "      <td>35.44</td>\n",
       "      <td>-0.86</td>\n",
       "      <td>-0.01</td>\n",
       "      <td>0.0</td>\n",
       "      <td>0.06</td>\n",
       "      <td>1.16</td>\n",
       "    </tr>\n",
       "    <tr>\n",
       "      <th>ofi4,(1m)</th>\n",
       "      <td>-0.01</td>\n",
       "      <td>1.50</td>\n",
       "      <td>-0.35</td>\n",
       "      <td>4.92</td>\n",
       "      <td>-1.43</td>\n",
       "      <td>-0.00</td>\n",
       "      <td>0.0</td>\n",
       "      <td>0.00</td>\n",
       "      <td>1.45</td>\n",
       "    </tr>\n",
       "    <tr>\n",
       "      <th>ofi5,(1m)</th>\n",
       "      <td>-0.02</td>\n",
       "      <td>1.25</td>\n",
       "      <td>-0.37</td>\n",
       "      <td>9.05</td>\n",
       "      <td>-1.05</td>\n",
       "      <td>-0.00</td>\n",
       "      <td>0.0</td>\n",
       "      <td>0.00</td>\n",
       "      <td>0.95</td>\n",
       "    </tr>\n",
       "    <tr>\n",
       "      <th>ofi6,(1m)</th>\n",
       "      <td>-0.01</td>\n",
       "      <td>1.11</td>\n",
       "      <td>-0.09</td>\n",
       "      <td>8.31</td>\n",
       "      <td>-0.88</td>\n",
       "      <td>-0.00</td>\n",
       "      <td>0.0</td>\n",
       "      <td>0.00</td>\n",
       "      <td>0.77</td>\n",
       "    </tr>\n",
       "    <tr>\n",
       "      <th>ofi7,(1m)</th>\n",
       "      <td>-0.02</td>\n",
       "      <td>1.15</td>\n",
       "      <td>-0.60</td>\n",
       "      <td>8.44</td>\n",
       "      <td>-1.12</td>\n",
       "      <td>-0.04</td>\n",
       "      <td>0.0</td>\n",
       "      <td>0.03</td>\n",
       "      <td>1.05</td>\n",
       "    </tr>\n",
       "    <tr>\n",
       "      <th>ofi8,(1m)</th>\n",
       "      <td>-0.03</td>\n",
       "      <td>1.20</td>\n",
       "      <td>-1.69</td>\n",
       "      <td>21.34</td>\n",
       "      <td>-0.51</td>\n",
       "      <td>-0.03</td>\n",
       "      <td>0.0</td>\n",
       "      <td>0.03</td>\n",
       "      <td>0.50</td>\n",
       "    </tr>\n",
       "    <tr>\n",
       "      <th>ofi9,(1m)</th>\n",
       "      <td>-0.02</td>\n",
       "      <td>1.12</td>\n",
       "      <td>-1.84</td>\n",
       "      <td>26.49</td>\n",
       "      <td>-0.52</td>\n",
       "      <td>-0.03</td>\n",
       "      <td>0.0</td>\n",
       "      <td>0.03</td>\n",
       "      <td>0.51</td>\n",
       "    </tr>\n",
       "    <tr>\n",
       "      <th>ofi10,(1m)</th>\n",
       "      <td>-0.03</td>\n",
       "      <td>1.24</td>\n",
       "      <td>-2.32</td>\n",
       "      <td>32.65</td>\n",
       "      <td>-0.52</td>\n",
       "      <td>-0.01</td>\n",
       "      <td>0.0</td>\n",
       "      <td>0.01</td>\n",
       "      <td>0.52</td>\n",
       "    </tr>\n",
       "    <tr>\n",
       "      <th>ofiI,(1m)</th>\n",
       "      <td>-0.25</td>\n",
       "      <td>4.22</td>\n",
       "      <td>-27.54</td>\n",
       "      <td>947.99</td>\n",
       "      <td>-0.33</td>\n",
       "      <td>-0.11</td>\n",
       "      <td>0.0</td>\n",
       "      <td>0.10</td>\n",
       "      <td>0.29</td>\n",
       "    </tr>\n",
       "    <tr>\n",
       "      <th>r(1m)</th>\n",
       "      <td>-0.00</td>\n",
       "      <td>0.00</td>\n",
       "      <td>-0.11</td>\n",
       "      <td>38.20</td>\n",
       "      <td>-0.00</td>\n",
       "      <td>0.00</td>\n",
       "      <td>0.0</td>\n",
       "      <td>0.00</td>\n",
       "      <td>0.00</td>\n",
       "    </tr>\n",
       "  </tbody>\n",
       "</table>\n",
       "</div>"
      ],
      "text/plain": [
       "            Mean   Std  Skewness  Kurtosis   10%   25%  50%   75%   90%\n",
       "ofi1,(1m)  -0.30  5.02    -27.75    958.89 -0.22  0.00  0.0  0.00  0.22\n",
       "ofi2,(1m)  -0.07  1.27     -3.91     44.51 -0.96  0.00  0.0  0.00  0.97\n",
       "ofi3,(1m)   0.01  1.32     -2.19     35.44 -0.86 -0.01  0.0  0.06  1.16\n",
       "ofi4,(1m)  -0.01  1.50     -0.35      4.92 -1.43 -0.00  0.0  0.00  1.45\n",
       "ofi5,(1m)  -0.02  1.25     -0.37      9.05 -1.05 -0.00  0.0  0.00  0.95\n",
       "ofi6,(1m)  -0.01  1.11     -0.09      8.31 -0.88 -0.00  0.0  0.00  0.77\n",
       "ofi7,(1m)  -0.02  1.15     -0.60      8.44 -1.12 -0.04  0.0  0.03  1.05\n",
       "ofi8,(1m)  -0.03  1.20     -1.69     21.34 -0.51 -0.03  0.0  0.03  0.50\n",
       "ofi9,(1m)  -0.02  1.12     -1.84     26.49 -0.52 -0.03  0.0  0.03  0.51\n",
       "ofi10,(1m) -0.03  1.24     -2.32     32.65 -0.52 -0.01  0.0  0.01  0.52\n",
       "ofiI,(1m)  -0.25  4.22    -27.54    947.99 -0.33 -0.11  0.0  0.10  0.29\n",
       "r(1m)      -0.00  0.00     -0.11     38.20 -0.00  0.00  0.0  0.00  0.00"
      ]
     },
     "execution_count": 55,
     "metadata": {},
     "output_type": "execute_result"
    }
   ],
   "source": [
    "# Select the multi level ofi cols and log return col\n",
    "summary_cols = multi_level_ofi_cols + ['integrated_ofi', 'log_returns']  \n",
    "summary_df = order_data[summary_cols].dropna()\n",
    "\n",
    "# Create summary stats table\n",
    "summary_stats = pd.DataFrame({\n",
    "    'Mean': summary_df.mean(),\n",
    "    'Std': summary_df.std(),\n",
    "    'Skewness': summary_df.skew(),\n",
    "    'Kurtosis': summary_df.kurtosis(),\n",
    "    '10%': summary_df.quantile(0.10),\n",
    "    '25%': summary_df.quantile(0.25),\n",
    "    '50%': summary_df.quantile(0.50),\n",
    "    '75%': summary_df.quantile(0.75),\n",
    "    '90%': summary_df.quantile(0.90)\n",
    "}).round(2)\n",
    "\n",
    "# Optional: rename index to match paper style\n",
    "summary_stats.index = [f'ofi{m+1},(1m)' for m in range(10)] + ['ofiI,(1m)', 'r(1m)']\n",
    "\n",
    "summary_stats.head(12)"
   ]
  }
 ],
 "metadata": {
  "kernelspec": {
   "display_name": "base",
   "language": "python",
   "name": "python3"
  },
  "language_info": {
   "codemirror_mode": {
    "name": "ipython",
    "version": 3
   },
   "file_extension": ".py",
   "mimetype": "text/x-python",
   "name": "python",
   "nbconvert_exporter": "python",
   "pygments_lexer": "ipython3",
   "version": "3.12.7"
  }
 },
 "nbformat": 4,
 "nbformat_minor": 5
}
